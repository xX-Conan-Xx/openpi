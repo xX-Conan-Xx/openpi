{
    "cells": [
        {
            "cell_type": "code",
            "execution_count": 1,
            "metadata": {},
            "outputs": [],
            "source": [
                "import dataclasses\n",
                "\n",
                "import jax\n",
                "\n",
                "from openpi.models import model as _model\n",
                "from openpi.policies import droid_policy\n",
                "from openpi.policies import policy_config as _policy_config\n",
                "from openpi.shared import download\n",
                "from openpi.training import config as _config\n",
                "from openpi.training import data_loader as _data_loader"
            ]
        },
        {
            "cell_type": "markdown",
            "metadata": {},
            "source": [
                "# Policy inference\n",
                "\n",
                "The following example shows how to create a policy from a checkpoint and run inference on a dummy example."
            ]
        },
        {
            "cell_type": "markdown",
            "metadata": {},
            "source": [
                "# Working with a live model\n",
                "\n",
                "\n",
                "The following example shows how to create a live model from a checkpoint and compute training loss. First, we are going to demonstrate how to do it with fake data.\n"
            ]
        },
        {
            "cell_type": "code",
            "execution_count": 2,
            "metadata": {},
            "outputs": [],
            "source": [
                "config = _config.get_config(\"pi0_opaque_low_mem_finetune\")\n",
                "\n",
                "checkpoint_dir = download.maybe_download(\"/media/zeyu/082b281d-ee9b-bc4b-be11-a1acf8642a75/DockerCode/openpi/checkpoints/pi0_opaque_low_mem_finetune/train0810/20000\")\n",
                "key = jax.random.key(0)\n",
                "\n",
                "# Create a model from the checkpoint.\n",
                "# model = config.model.load(_model.restore_params(checkpoint_dir / \"params\"))\n",
                "\n",
                "# # We can create fake observations and actions to test the model.\n",
                "# obs, act = config.model.fake_obs(), config.model.fake_act()\n",
                "\n",
                "# # Sample actions from the model.\n",
                "# loss = model.compute_loss(key, obs, act)\n",
                "# print(\"Loss shape:\", loss.shape)"
            ]
        },
        {
            "cell_type": "markdown",
            "metadata": {},
            "source": [
                "Now, we are going to create a data loader and use a real batch of training data to compute the loss."
            ]
        },
        {
            "cell_type": "code",
            "execution_count": 3,
            "metadata": {},
            "outputs": [
                {
                    "data": {
                        "application/vnd.jupyter.widget-view+json": {
                            "model_id": "f85f9f42911945909c5073aada02d8ca",
                            "version_major": 2,
                            "version_minor": 0
                        },
                        "text/plain": [
                            "Resolving data files:   0%|          | 0/45 [00:00<?, ?it/s]"
                        ]
                    },
                    "metadata": {},
                    "output_type": "display_data"
                }
            ],
            "source": [
                "# Reduce the batch size to reduce memory usage.\n",
                "config = dataclasses.replace(config, batch_size=1)\n",
                "\n",
                "# Load a single batch of data. This is the same data that will be used during training.\n",
                "# NOTE: In order to make this example self-contained, we are skipping the normalization step\n",
                "# since it requires the normalization statistics to be generated using `compute_norm_stats`.\n",
                "loader = _data_loader.create_data_loader(config, num_batches=1000, skip_norm_stats=True)"
            ]
        },
        {
            "cell_type": "code",
            "execution_count": 4,
            "metadata": {},
            "outputs": [],
            "source": [
                "data_iter = iter(loader)"
            ]
        },
        {
            "cell_type": "code",
            "execution_count": 5,
            "metadata": {},
            "outputs": [],
            "source": [
                "# Create a model from the checkpoint.\n",
                "model = config.model.load(_model.restore_params(checkpoint_dir / \"params\"))"
            ]
        },
        {
            "cell_type": "code",
            "execution_count": 5,
            "metadata": {},
            "outputs": [],
            "source": [
                "total_loss = []\n",
                "for i in range(130):\n",
                "    obs, act = next(data_iter)"
            ]
        },
        {
            "cell_type": "code",
            "execution_count": 6,
            "metadata": {},
            "outputs": [
                {
                    "data": {
                        "text/plain": [
                            "Array([[ 0.180929  ,  0.285763  ,  0.09967   ,  3.074133  ,  0.14975755,\n",
                            "         3.1352837 , -2.158     ,  0.        ,  0.        ,  0.        ,\n",
                            "         0.        ,  0.        ,  0.        ,  0.        ,  0.        ,\n",
                            "         0.        ,  0.        ,  0.        ,  0.        ,  0.        ,\n",
                            "         0.        ,  0.        ,  0.        ,  0.        ,  0.        ,\n",
                            "         0.        ,  0.        ,  0.        ,  0.        ,  0.        ,\n",
                            "         0.        ,  0.        ]], dtype=float32)"
                        ]
                    },
                    "execution_count": 6,
                    "metadata": {},
                    "output_type": "execute_result"
                }
            ],
            "source": [
                "obs.state"
            ]
        },
        {
            "cell_type": "code",
            "execution_count": 15,
            "metadata": {},
            "outputs": [
                {
                    "data": {
                        "text/plain": [
                            "Array([ 0.   ,  0.   ,  0.   ,  0.   ,  0.   ,  0.   , -2.736,  0.   ,\n",
                            "        0.   ,  0.   ,  0.   ,  0.   ,  0.   ,  0.   ,  0.   ,  0.   ,\n",
                            "        0.   ,  0.   ,  0.   ,  0.   ,  0.   ,  0.   ,  0.   ,  0.   ,\n",
                            "        0.   ,  0.   ,  0.   ,  0.   ,  0.   ,  0.   ,  0.   ,  0.   ],      dtype=float32)"
                        ]
                    },
                    "execution_count": 15,
                    "metadata": {},
                    "output_type": "execute_result"
                }
            ],
            "source": [
                "act[0,11]"
            ]
        },
        {
            "cell_type": "code",
            "execution_count": 7,
            "metadata": {},
            "outputs": [
                {
                    "data": {
                        "text/plain": [
                            "Array([[ 0.14174493, -1.1227123 , -0.91190654,  0.5641826 ,  0.09723206,\n",
                            "         1.6130959 , -0.30481562,  0.        ,  0.        ,  0.        ,\n",
                            "         0.        ,  0.        ,  0.        ,  0.        ,  0.        ,\n",
                            "         0.        ,  0.        ,  0.        ,  0.        ,  0.        ,\n",
                            "         0.        ,  0.        ,  0.        ,  0.        ,  0.        ,\n",
                            "         0.        ,  0.        ,  0.        ,  0.        ,  0.        ,\n",
                            "         0.        ,  0.        ]], dtype=float32)"
                        ]
                    },
                    "execution_count": 7,
                    "metadata": {},
                    "output_type": "execute_result"
                }
            ],
            "source": [
                "obs.state"
            ]
        },
        {
            "cell_type": "code",
            "execution_count": 6,
            "metadata": {},
            "outputs": [
                {
                    "name": "stdout",
                    "output_type": "stream",
                    "text": [
                        "Loss shape for batch 0: 0.012792807\n",
                        "Loss shape for batch 1: 0.012809234\n",
                        "Loss shape for batch 2: 0.0121276565\n",
                        "Loss shape for batch 3: 0.012821914\n",
                        "Loss shape for batch 4: 0.013838255\n",
                        "Loss shape for batch 5: 0.013382771\n",
                        "Loss shape for batch 6: 0.014889798\n",
                        "Loss shape for batch 7: 0.014213528\n",
                        "Loss shape for batch 8: 0.014653834\n",
                        "Loss shape for batch 9: 0.014680592\n",
                        "Loss shape for batch 10: 0.013074605\n",
                        "Loss shape for batch 11: 0.013230385\n",
                        "Loss shape for batch 12: 0.014068116\n",
                        "Loss shape for batch 13: 0.013072871\n",
                        "Loss shape for batch 14: 0.013569169\n",
                        "Loss shape for batch 15: 0.0121512795\n",
                        "Loss shape for batch 16: 0.0138296\n",
                        "Loss shape for batch 17: 0.014178987\n",
                        "Loss shape for batch 18: 0.016168145\n",
                        "Loss shape for batch 19: 0.015738497\n",
                        "Loss shape for batch 20: 0.015070244\n",
                        "Loss shape for batch 21: 0.013200468\n",
                        "Loss shape for batch 22: 0.012433031\n",
                        "Loss shape for batch 23: 0.009838232\n",
                        "Loss shape for batch 24: 0.009501921\n",
                        "Loss shape for batch 25: 0.007637659\n",
                        "Loss shape for batch 26: 0.008469379\n",
                        "Loss shape for batch 27: 0.00848637\n",
                        "Loss shape for batch 28: 0.008262155\n",
                        "Loss shape for batch 29: 0.007998162\n",
                        "Loss shape for batch 30: 0.0066355597\n",
                        "Loss shape for batch 31: 0.005666318\n",
                        "Loss shape for batch 32: 0.0062675974\n",
                        "Loss shape for batch 33: 0.0061944188\n",
                        "Loss shape for batch 34: 0.009099326\n",
                        "Loss shape for batch 35: 0.008098279\n",
                        "Loss shape for batch 36: 0.007905544\n",
                        "Loss shape for batch 37: 0.008678081\n",
                        "Loss shape for batch 38: 0.0074391183\n",
                        "Loss shape for batch 39: 0.007088918\n",
                        "Loss shape for batch 40: 0.004686231\n",
                        "Loss shape for batch 41: 0.006049216\n",
                        "Loss shape for batch 42: 0.010220327\n",
                        "Loss shape for batch 43: 0.0043542353\n",
                        "Loss shape for batch 44: 0.0035163423\n",
                        "Loss shape for batch 45: 0.0032354621\n",
                        "Loss shape for batch 46: 0.003596199\n",
                        "Loss shape for batch 47: 0.005261651\n",
                        "Loss shape for batch 48: 0.0029268828\n",
                        "Loss shape for batch 49: 0.0030040443\n",
                        "Loss shape for batch 50: 0.0031247109\n",
                        "Loss shape for batch 51: 0.0036906458\n",
                        "Loss shape for batch 52: 0.0056214654\n",
                        "Loss shape for batch 53: 0.0046294294\n",
                        "Loss shape for batch 54: 0.004657415\n",
                        "Loss shape for batch 55: 0.004589682\n",
                        "Loss shape for batch 56: 0.005728154\n",
                        "Loss shape for batch 57: 0.018485071\n",
                        "Loss shape for batch 58: 0.0065831337\n",
                        "Loss shape for batch 59: 0.005991448\n",
                        "Loss shape for batch 60: 0.0041708155\n",
                        "Loss shape for batch 61: 0.0052665584\n",
                        "Loss shape for batch 62: 0.0041299146\n",
                        "Loss shape for batch 63: 0.0038416092\n",
                        "Loss shape for batch 64: 0.0038514729\n",
                        "Loss shape for batch 65: 0.007659038\n",
                        "Loss shape for batch 66: 0.00566836\n",
                        "Loss shape for batch 67: 0.0050850743\n",
                        "Loss shape for batch 68: 0.004953944\n",
                        "Loss shape for batch 69: 0.003838021\n",
                        "Loss shape for batch 70: 0.00390687\n",
                        "Loss shape for batch 71: 0.003503573\n",
                        "Loss shape for batch 72: 0.0038815967\n",
                        "Loss shape for batch 73: 0.0035152182\n",
                        "Loss shape for batch 74: 0.0032632137\n",
                        "Loss shape for batch 75: 0.0032627964\n",
                        "Loss shape for batch 76: 0.0034401703\n",
                        "Loss shape for batch 77: 0.0038317244\n",
                        "Loss shape for batch 78: 0.003511281\n",
                        "Loss shape for batch 79: 0.0051767086\n",
                        "Loss shape for batch 80: 0.0042880396\n",
                        "Loss shape for batch 81: 0.0044584954\n",
                        "Loss shape for batch 82: 0.004754088\n",
                        "Loss shape for batch 83: 0.0056517255\n",
                        "Loss shape for batch 84: 0.0038253043\n",
                        "Loss shape for batch 85: 0.0030656413\n",
                        "Loss shape for batch 86: 0.002896402\n",
                        "Loss shape for batch 87: 0.0041759354\n",
                        "Loss shape for batch 88: 0.0050692367\n",
                        "Loss shape for batch 89: 0.004052274\n",
                        "Loss shape for batch 90: 0.0024557123\n",
                        "Loss shape for batch 91: 0.0025425868\n",
                        "Loss shape for batch 92: 0.0030030746\n",
                        "Loss shape for batch 93: 0.0034298913\n",
                        "Loss shape for batch 94: 0.0029912775\n",
                        "Loss shape for batch 95: 0.0025512897\n",
                        "Loss shape for batch 96: 0.002843644\n",
                        "Loss shape for batch 97: 0.0029824194\n",
                        "Loss shape for batch 98: 0.0026462534\n",
                        "Loss shape for batch 99: 0.0023124644\n",
                        "Loss shape for batch 100: 0.0026321455\n",
                        "Loss shape for batch 101: 0.0042337743\n",
                        "Loss shape for batch 102: 0.004451292\n",
                        "Loss shape for batch 103: 0.0047352915\n",
                        "Loss shape for batch 104: 0.0030763166\n",
                        "Loss shape for batch 105: 0.0030022988\n",
                        "Loss shape for batch 106: 0.002952645\n",
                        "Loss shape for batch 107: 0.0018182608\n",
                        "Loss shape for batch 108: 0.0021481568\n",
                        "Loss shape for batch 109: 0.0019099776\n",
                        "Loss shape for batch 110: 0.0013887951\n",
                        "Loss shape for batch 111: 0.0020136493\n",
                        "Loss shape for batch 112: 0.0011603034\n",
                        "Loss shape for batch 113: 0.00087483105\n",
                        "Loss shape for batch 114: 0.0020269433\n",
                        "Loss shape for batch 115: 0.0036435106\n",
                        "Loss shape for batch 116: 0.006719438\n",
                        "Loss shape for batch 117: 0.009177029\n",
                        "Loss shape for batch 118: 0.0071378127\n",
                        "Loss shape for batch 119: 0.00328289\n",
                        "Loss shape for batch 120: 0.0018085844\n",
                        "Loss shape for batch 121: 0.0018711878\n",
                        "Loss shape for batch 122: 0.0006853914\n",
                        "Loss shape for batch 123: 0.0015238323\n",
                        "Loss shape for batch 124: 0.00289447\n",
                        "Loss shape for batch 125: 0.0030808472\n",
                        "Loss shape for batch 126: 0.0028432559\n",
                        "Loss shape for batch 127: 0.0013789766\n",
                        "Loss shape for batch 128: 0.0006584057\n",
                        "Loss shape for batch 129: 0.00038881972\n",
                        "Loss shape for batch 130: 0.00044817934\n",
                        "Loss shape for batch 131: 0.00034457276\n",
                        "Loss shape for batch 132: 0.00036485388\n",
                        "Loss shape for batch 133: 0.0003668745\n",
                        "Loss shape for batch 134: 0.00040167148\n",
                        "Loss shape for batch 135: 0.00033811165\n",
                        "Loss shape for batch 136: 0.000317154\n",
                        "Loss shape for batch 137: 0.00037571075\n"
                    ]
                }
            ],
            "source": [
                "total_loss = []\n",
                "for i in range(138):\n",
                "    obs, act = next(data_iter)\n",
                "    # Sample actions from the model.\n",
                "    loss = model.compute_loss(key, obs, act)\n",
                "    total_loss.append(loss)\n",
                "    print(f\"Loss shape for batch {i}:\", loss.mean())"
            ]
        },
        {
            "cell_type": "code",
            "execution_count": 15,
            "metadata": {},
            "outputs": [],
            "source": [
                "import numpy as np\n",
                "arr = np.stack(total_loss, axis=0)"
            ]
        },
        {
            "cell_type": "code",
            "execution_count": 22,
            "metadata": {},
            "outputs": [
                {
                    "data": {
                        "image/png": "[encoded data removed]",
                        "text/plain": [
                            "<Figure size 640x480 with 1 Axes>"
                        ]
                    },
                    "metadata": {},
                    "output_type": "display_data"
                }
            ],
            "source": [
                "arr[:,0,0]\n",
                "#draw graph for x, y and z loss separately\n",
                "import matplotlib.pyplot as plt\n",
                "plt.plot(arr[:,0,0], label='x loss')\n",
                "plt.plot(arr[:,0,1], label='y loss')\n",
                "plt.plot(arr[:,0,2], label='z loss')\n",
                "plt.plot(arr[:,0,6], label='grip loss')\n",
                "plt.xlabel('step')\n",
                "plt.ylabel('Loss')\n",
                "plt.legend()\n",
                "plt.show()"
            ]
        },
        {
            "cell_type": "code",
            "execution_count": 25,
            "metadata": {},
            "outputs": [],
            "source": [
                "# save arr to npy file\n",
                "np.save('debug_test_loss_pi0_opaque_low_mem_finetune.npy', arr)"
            ]
        },
        {
            "cell_type": "code",
            "execution_count": 1,
            "metadata": {},
            "outputs": [],
            "source": [
                "import json, numpy as np\n",
                "\n",
                "# ==== 1) Hardcoded data (N x 7) ====\n",
                "DATA = np.array([\n",
                "[ 0.17178754,  0.31913684,  0.34355346,  2.74867346,  0.12078963,  2.81269217, -2.76262991],\n",
                "[ 0.1721505 ,  0.31929852,  0.34239829,  2.7136637 ,  0.12040936,  2.80001037, -2.76619905],\n",
                "[ 0.17213198,  0.31843461,  0.34215826,  2.72242391,  0.1204648 ,  2.7974778 , -2.76957132],\n",
                "[ 0.17201831,  0.31793377,  0.34195217,  2.727437  ,  0.12043596,  2.80176068, -2.76803955],\n",
                "[ 0.17195892,  0.31805407,  0.34204224,  2.72492145,  0.12055034,  2.79565918, -2.76536551],\n",
                "[ 0.17198609,  0.31781729,  0.34228471,  2.72278056,  0.12069532,  2.79636316, -2.76750208],\n",
                "[ 0.17192556,  0.31776311,  0.34213622,  2.73051484,  0.12083331,  2.803269  , -2.76648917],\n",
                "[ 0.17190534,  0.31766975,  0.34244792,  2.7293241 ,  0.1208913 ,  2.81422638, -2.76573341],\n",
                "[ 0.17179105,  0.31733405,  0.34254133,  2.71511377,  0.12113998,  2.80724616, -2.76481733],\n",
                "[ 0.17174414,  0.31783697,  0.34265948,  2.7205985 ,  0.12130364,  2.80780218, -2.76935824],\n",
                "[ 0.1717558 ,  0.31767883,  0.34223702,  2.72579628,  0.12122704,  2.80524143, -2.77095671],\n",
                "[ 0.17159715,  0.31737532,  0.34237329,  2.71793116,  0.12137967,  2.80073242, -2.77144672],\n",
                "[ 0.17144948,  0.31735989,  0.34263219,  2.72366491,  0.12140753,  2.80397588, -2.77165128],\n",
                "[ 0.17119415,  0.31687399,  0.34366864,  2.71669422,  0.12188598,  2.81564076, -2.77293672],\n",
                "[ 0.17071982,  0.31656869,  0.34500578,  2.71730785,  0.12267358,  2.81852087, -2.77056399],\n",
                "[ 0.16946439,  0.31617687,  0.34862285,  2.70453749,  0.12513423,  2.8192678 , -2.7685738 ],\n",
                "[ 0.16780498,  0.31744117,  0.3555933 ,  2.67938861,  0.13007137,  2.82208654, -2.76839169],\n",
                "[ 0.16610994,  0.31969691,  0.36588008,  2.67391323,  0.13767169,  2.83606808, -2.76848311],\n",
                "[ 0.16441098,  0.32216072,  0.37580617,  2.6704934 ,  0.14511835,  2.84179383, -2.77058854],\n",
                "[ 0.16212473,  0.32779557,  0.38450199,  2.66420522,  0.15203593,  2.83266856, -2.77104071],\n",
                "[ 0.15971174,  0.33841385,  0.39259004,  2.61937373,  0.15782172,  2.84690418, -2.77827454],\n",
                "[ 0.15883891,  0.35426902,  0.39331565,  2.60964137,  0.16106999,  2.87039543, -2.7755481 ],\n",
                "[ 0.15930514,  0.3754391 ,  0.38401303,  2.61084428,  0.16239479,  2.91167531, -2.7725866 ],\n",
                "[ 0.15990194,  0.39458294,  0.36906072,  2.61923263,  0.16049767,  2.95046076, -2.76931958],\n",
                "[ 0.15966844,  0.40651975,  0.3600867 ,  2.66272002,  0.15894905,  2.97977245, -2.76960916],\n",
                "[ 0.15851994,  0.41434112,  0.36128868,  2.66540308,  0.16452722,  2.9556541 , -2.77126744],\n",
                "[ 0.15799145,  0.42027095,  0.36459295,  2.6881828 ,  0.17359201,  2.96271836, -2.77299627],\n",
                "[ 0.15795105,  0.42408481,  0.36540164,  2.72215549,  0.18148062,  2.92613642, -2.77199353],\n",
                "[ 0.15824629,  0.42739687,  0.37033128,  2.74765374,  0.19457625,  2.92867331, -2.77283101],\n",
                "[ 0.1589209 ,  0.43037136,  0.37211237,  2.80360097,  0.20688451,  2.95924957, -2.77140275],\n",
                "[ 0.16049095,  0.43790982,  0.36831445,  2.84059793,  0.21941229,  2.97006448, -2.76811576],\n",
                "[ 0.16335443,  0.44658659,  0.35945164,  2.867714  ,  0.23142006,  2.98914485, -2.76683499],\n",
                "[ 0.16754807,  0.45409263,  0.3474117 ,  2.92204866,  0.2439769 ,  2.94503814, -2.7610472 ],\n",
                "[ 0.17317971,  0.46436314,  0.33799097,  2.94596089,  0.26767125,  2.96762404, -2.75449366],\n",
                "[ 0.17803737,  0.46590971,  0.32579393,  2.95054086,  0.28760073, -3.19750312, -2.7663491 ],\n",
                "[ 0.18026126,  0.47391454,  0.31507522,  2.95421858,  0.30004748, -3.13968996, -2.76907105],\n",
                "[ 0.18135538,  0.4811517 ,  0.30578677,  2.94636488,  0.30754399, -3.10310837, -2.76618961],\n",
                "[ 0.18223996,  0.48714595,  0.29800947,  2.93556584,  0.31286349, -3.09591971, -2.76173591],\n",
                "[ 0.18224735,  0.49200233,  0.29031084,  2.95906721,  0.31385697, -3.0708582 , -2.76812089],\n",
                "[ 0.18246991,  0.49692058,  0.28286104,  2.98370199,  0.31869979, -3.03816352, -2.76294358],\n",
                "[ 0.18236057,  0.5019427 ,  0.27560853,  2.96839687,  0.32041521, -3.05508758, -2.75987435],\n",
                "[ 0.182135  ,  0.5067165 ,  0.26684477,  2.9911304 ,  0.31855195, -3.04225792, -2.76049087],\n",
                "[ 0.18299677,  0.51247275,  0.25958137,  2.96744426,  0.31907574, -3.10571067, -2.75975315],\n",
                "[ 0.18431233,  0.5166085 ,  0.25477962,  2.98166174,  0.3199853 , -3.0788476 , -2.76137415],\n",
                "[ 0.18570599,  0.52033085,  0.24964311,  2.98351556,  0.32013192, -3.12025152, -2.75877752],\n",
                "[ 0.18687969,  0.52209427,  0.23998157,  3.01820404,  0.31226798, -3.12741733, -2.75917996],\n",
                "[ 0.18843241,  0.5208305 ,  0.22704841,  3.05691115,  0.29446392, -3.1607253 , -2.75316443],\n",
                "[ 0.18928675,  0.51878971,  0.21437466,  3.08278717,  0.27616665, -3.1828325 , -2.75781628],\n",
                "[ 0.19077326,  0.51728262,  0.2048227 ,  3.06511221,  0.26322734, -3.21786819, -2.75812088],\n",
                "[ 0.19291192,  0.5156272 ,  0.19731872,  3.09088764,  0.25290684, -3.21894955, -2.75768885],\n",
                "], dtype=np.float64)"
            ]
        },
        {
            "cell_type": "code",
            "execution_count": 2,
            "metadata": {},
            "outputs": [],
            "source": [
                "import numpy as np\n",
                "\n",
                "# Vector to subtract (xy... up to the 6th column). Keep the last column unchanged.\n",
                "v = np.array([0.172454, 0.318198, 0.341037, 2.71678279, 0.12151298, 2.79472303, -2.76], dtype=float)\n",
                "\n",
                "# Subtract from all rows, but not the last element: use a mask so the last column subtracts 0\n",
                "mask = np.array([1, 1, 1, 1, 1, 1, 0], dtype=float)\n",
                "\n",
                "DATA_sub = DATA - v * mask  # shape preserved"
            ]
        },
        {
            "cell_type": "code",
            "execution_count": 4,
            "metadata": {},
            "outputs": [],
            "source": [
                "import json, numpy as np\n",
                "\n",
                "# === path to your stats JSON ===\n",
                "json_path = \"/media/zeyu/082b281d-ee9b-bc4b-be11-a1acf8642a75/DockerCode/openpi/examples/assets/pi0_opaque_low_mem_finetune/xX-Conan-Xx/pick_up_opaque_bottle/norm_stats.json\"\n",
                "\n",
                "# === load action stats (mean/std) ===\n",
                "with open(json_path, \"r\") as f:\n",
                "    js = json.load(f)\n",
                "\n",
                "act_stats = js[\"norm_stats\"][\"actions\"]\n",
                "mu  = np.asarray(act_stats[\"mean\"], dtype=float)   # shape (7,)\n",
                "std = np.asarray(act_stats[\"std\"],  dtype=float)   # shape (7,)\n",
                "\n",
                "# === z-score normalize (all 7 columns) ===\n",
                "eps = 1e-8\n",
                "DATA_norm = (DATA_sub - mu) / (std + eps)"
            ]
        },
        {
            "cell_type": "code",
            "execution_count": 22,
            "metadata": {},
            "outputs": [
                {
                    "data": {
                        "application/vnd.jupyter.widget-view+json": {
                            "model_id": "52d4769f02854fa188f9c5576cc7d0a9",
                            "version_major": 2,
                            "version_minor": 0
                        },
                        "text/plain": [
                            "Resolving data files:   0%|          | 0/45 [00:00<?, ?it/s]"
                        ]
                    },
                    "metadata": {},
                    "output_type": "display_data"
                },
                {
                    "name": "stdout",
                    "output_type": "stream",
                    "text": [
                        "Dataset({\n",
                        "    features: ['image', 'wrist_image', 'state', 'actions', 'timestamp', 'frame_index', 'episode_index', 'index', 'task_index'],\n",
                        "    num_rows: 4850\n",
                        "})\n",
                        "Using state column: state\n"
                    ]
                }
            ],
            "source": [
                "import os, numpy as np\n",
                "from datasets import load_dataset\n",
                "\n",
                "REPO_ID = \"xX-Conan-Xx/pick_up_opaque_bottle\"\n",
                "HF_TOKEN = os.getenv(\"HF_TOKEN\")  # set if the repo is private\n",
                "\n",
                "# 1) Load all parquet files from the dataset repo\n",
                "ds = load_dataset(\n",
                "    \"parquet\",\n",
                "    data_files={\"train\": f\"hf://datasets/{REPO_ID}/**/*.parquet\"},\n",
                "    split=\"train\",\n",
                "    token=HF_TOKEN,\n",
                ")\n",
                "print(ds)\n",
                "\n",
                "# 2) Find the 'state' column (flatten if nested like 'observation.state')\n",
                "if \"state\" in ds.column_names:\n",
                "    state_col = \"state\"\n",
                "else:\n",
                "    ds = ds.flatten()\n",
                "    # pick a column that ends with 'state' and has length-7 vectors\n",
                "    candidates = [c for c in ds.column_names if c.endswith(\"state\")]\n",
                "    if not candidates:\n",
                "        raise KeyError(f\"No 'state' column found. Columns: {ds.column_names}\")\n",
                "    # choose the first that looks like 7-D\n",
                "    state_col = None\n",
                "    for c in candidates:\n",
                "        val = ds[c][0]\n",
                "        if isinstance(val, (list, tuple)) and len(val) == 7:\n",
                "            state_col = c\n",
                "            break\n",
                "    if state_col is None:\n",
                "        raise ValueError(f\"Found {candidates} but none look like 7-D 'state' vectors.\")\n",
                "\n",
                "print(\"Using state column:\", state_col)\n",
                "\n",
                "# 3) Stack states to (N,7)\n",
                "STATES = np.asarray(ds[state_col], dtype=np.float64)  # list[list] -> np.array (N,7)\n",
                "\n",
                "\n"
            ]
        },
        {
            "cell_type": "code",
            "execution_count": 23,
            "metadata": {},
            "outputs": [],
            "source": [
                "def actions_from_states(states, *, keep_last=\"current\", time_axis=0):\n",
                "    \"\"\"\n",
                "    states: array with shape (..., T, 7) if time_axis=-2 or (T, 7) if time_axis=0\n",
                "            last dim is 7 features; only first 6 get differenced.\n",
                "    keep_last: \"current\" -> use states[t, -1] as the last action element\n",
                "               \"next\"    -> use states[t+1, -1]\n",
                "    time_axis: which axis is time (default 0)\n",
                "    Returns: actions with shape identical to states except time reduced by 1 on time_axis.\n",
                "    \"\"\"\n",
                "    s = np.asarray(states)\n",
                "    assert s.shape[-1] == 7, f\"Expected last dim = 7, got {s.shape[-1]}\"\n",
                "\n",
                "    # move time axis to -2 for easy diff\n",
                "    s = np.moveaxis(s, time_axis, -2)          # shape (..., T, 7)\n",
                "    # first 6 dims deltas between t+1 and t\n",
                "    delta = np.diff(s[..., :6], axis=-2)       # (..., T-1, 6)\n",
                "\n",
                "    if keep_last == \"current\":\n",
                "        last = s[..., :-1, 6][..., None]       # (..., T-1, 1), take at time t\n",
                "    elif keep_last == \"next\":\n",
                "        last = s[..., 1:, 6][..., None]        # (..., T-1, 1), take at time t+1\n",
                "    else:\n",
                "        raise ValueError(\"keep_last must be 'current' or 'next'\")\n",
                "\n",
                "    actions = np.concatenate([delta, last], axis=-1)   # (..., T-1, 7)\n",
                "    # move time axis back\n",
                "    actions = np.moveaxis(actions, -2, time_axis)\n",
                "    return actions"
            ]
        },
        {
            "cell_type": "code",
            "execution_count": 24,
            "metadata": {},
            "outputs": [],
            "source": [
                "REAL_ACTIONS = actions_from_states(STATES, keep_last=\"current\", time_axis=0)  # shape (N-1, 7)"
            ]
        },
        {
            "cell_type": "code",
            "execution_count": 25,
            "metadata": {},
            "outputs": [],
            "source": [
                "REAL_ACTIONS_norm = (REAL_ACTIONS - mu) / (std + eps)"
            ]
        },
        {
            "cell_type": "code",
            "execution_count": 28,
            "metadata": {},
            "outputs": [
                {
                    "data": {
                        "text/plain": [
                            "array([[-2.51350912e-01,  4.32058626e-01,  3.56818647e-01,\n",
                            "         1.50434067e-02,  3.88299416e-02,  7.54628064e-02,\n",
                            "        -1.07077508e+00],\n",
                            "       [-2.51350912e-01,  4.32058626e-01,  3.56818647e-01,\n",
                            "         1.50434067e-02,  3.88299416e-02,  7.54628064e-02,\n",
                            "        -1.07077508e+00],\n",
                            "       [-2.51350912e-01,  4.32058626e-01,  3.56818647e-01,\n",
                            "         1.50434067e-02,  3.88299416e-02,  7.54628064e-02,\n",
                            "        -1.07077508e+00],\n",
                            "       [-2.51350912e-01,  4.32058626e-01,  3.56818647e-01,\n",
                            "         1.50434067e-02,  3.88299416e-02,  7.54628064e-02,\n",
                            "        -1.07077508e+00],\n",
                            "       [-2.51350912e-01,  4.32058626e-01,  3.56818647e-01,\n",
                            "         1.50434067e-02,  3.88299416e-02,  7.54628064e-02,\n",
                            "        -1.07077508e+00],\n",
                            "       [-2.51350912e-01,  4.32058626e-01,  3.56818647e-01,\n",
                            "         1.50434067e-02,  3.88299416e-02,  7.54628064e-02,\n",
                            "        -1.07077508e+00],\n",
                            "       [-2.51350912e-01,  4.32058626e-01,  3.56818647e-01,\n",
                            "         1.50434067e-02,  3.88299416e-02,  7.54628064e-02,\n",
                            "        -1.07077508e+00],\n",
                            "       [-2.51350912e-01,  4.32058626e-01,  3.56818647e-01,\n",
                            "         1.50434067e-02,  3.88299416e-02,  7.54628064e-02,\n",
                            "        -1.07077508e+00],\n",
                            "       [-2.51350912e-01,  4.32058626e-01,  3.56818647e-01,\n",
                            "         1.50434067e-02,  3.88299416e-02,  7.54628064e-02,\n",
                            "        -1.07077508e+00],\n",
                            "       [-2.65532144e-01,  4.21881487e-01,  3.75859443e-01,\n",
                            "         1.34820075e-02,  5.07324565e-02,  7.52574396e-02,\n",
                            "        -1.07077508e+00],\n",
                            "       [-2.82958033e-01,  4.09336751e-01,  3.98542145e-01,\n",
                            "         1.16057945e-02,  6.47754824e-02,  7.50060048e-02,\n",
                            "        -1.07077508e+00],\n",
                            "       [-2.92530980e-01,  4.02460277e-01,  4.09551615e-01,\n",
                            "         1.06672408e-02,  7.14409918e-02,  7.48738620e-02,\n",
                            "        -1.07077508e+00],\n",
                            "       [-2.81367619e-01,  4.10472613e-01,  3.94226754e-01,\n",
                            "         1.19156894e-02,  6.18591292e-02,  7.50374442e-02,\n",
                            "        -1.07077508e+00],\n",
                            "       [-2.78187758e-01,  4.12123124e-01,  3.80595802e-01,\n",
                            "         1.40078152e-02,  1.00169183e-01,  7.70443163e-02,\n",
                            "        -1.07077508e+00],\n",
                            "       [-3.14792424e-01,  3.93634268e-01,  3.94237106e-01,\n",
                            "         1.44749680e-02,  1.34699917e-01,  7.84874602e-02,\n",
                            "        -1.07077508e+00],\n",
                            "       [-3.80375602e-01,  4.52197636e-01,  4.09467547e-01,\n",
                            "         1.05804136e-02,  1.19370788e-01,  8.09019138e-02,\n",
                            "        -1.07077508e+00],\n",
                            "       [-3.18589301e-01,  5.32657446e-01,  4.67400504e-01,\n",
                            "         1.35869327e-03,  1.55353315e-01,  7.97303292e-02,\n",
                            "        -1.07077508e+00],\n",
                            "       [-3.21833959e-01,  5.67170974e-01,  5.21691555e-01,\n",
                            "        -7.31493500e-03,  1.49611802e-01,  7.83650161e-02,\n",
                            "        -1.07077508e+00],\n",
                            "       [-2.88182849e-01,  5.61896896e-01,  4.89946124e-01,\n",
                            "        -4.40670794e-03,  1.74832428e-01,  7.78854229e-02,\n",
                            "        -1.07077508e+00],\n",
                            "       [-2.26136396e-01,  6.23162881e-01,  4.08088893e-01,\n",
                            "         5.93772923e-03,  9.27194134e-02,  7.93827170e-02,\n",
                            "        -1.07077508e+00],\n",
                            "       [-2.24222000e-01,  6.59840856e-01,  1.89461965e-01,\n",
                            "         2.56929689e-02, -5.86781408e-02,  8.28227112e-02,\n",
                            "        -1.07077508e+00],\n",
                            "       [-2.08807702e-01,  6.46004509e-01,  1.03583267e-01,\n",
                            "         3.31168070e-02, -4.56987062e-02,  8.42288391e-02,\n",
                            "        -1.07077508e+00],\n",
                            "       [-2.01376905e-01,  6.38219202e-01,  2.21512299e-01,\n",
                            "         2.35830304e-02,  7.33396308e-02,  8.33689011e-02,\n",
                            "        -1.07077508e+00],\n",
                            "       [-2.39960763e-01,  6.17410508e-01,  3.94563340e-01,\n",
                            "         1.08566210e-02,  3.79918548e-01,  8.55020968e-02,\n",
                            "        -1.07077508e+00],\n",
                            "       [-2.50344633e-01,  5.12948973e-01,  4.64874383e-01,\n",
                            "         1.11426664e-02,  3.61342668e-01,  8.20409274e-02,\n",
                            "        -1.07077508e+00],\n",
                            "       [-3.41758862e-01,  3.91410302e-01,  3.84753722e-01,\n",
                            "         2.60430353e-02,  9.78525992e-02,  8.10255703e-02,\n",
                            "        -1.07077508e+00],\n",
                            "       [-2.89935255e-01,  3.58929351e-01,  3.23315628e-01,\n",
                            "         3.64049870e-02,  1.90950867e-01,  8.50103804e-02,\n",
                            "        -1.07077508e+00],\n",
                            "       [-2.04167503e-01,  4.15447668e-01,  3.59471183e-01,\n",
                            "         2.99726932e-02,  2.16141750e-01,  8.09608325e-02,\n",
                            "        -1.07077508e+00],\n",
                            "       [-2.00921879e-01,  5.11920745e-01,  4.00752383e-01,\n",
                            "         1.77556204e-02,  2.63829815e-01,  7.93635624e-02,\n",
                            "        -1.07077508e+00],\n",
                            "       [-2.30712281e-01,  5.85803104e-01,  3.74943791e-01,\n",
                            "         1.30956451e-02,  3.35240134e-01,  8.02327948e-02,\n",
                            "        -1.07077508e+00],\n",
                            "       [-1.11487810e-01,  5.81258587e-01,  2.32553452e-01,\n",
                            "         2.14989538e-02,  1.34581786e-01,  7.88287683e-02,\n",
                            "        -1.07077508e+00],\n",
                            "       [-8.84473588e-02,  5.54984781e-01,  1.55106345e-01,\n",
                            "         2.89143701e-02,  2.15131331e-01,  8.33147509e-02,\n",
                            "        -1.07077508e+00],\n",
                            "       [-8.12438329e-02,  5.14659003e-01,  1.70631652e-01,\n",
                            "         3.07173949e-02,  4.10052375e-01,  8.98013015e-02,\n",
                            "        -1.07077508e+00],\n",
                            "       [-1.20249352e-01,  4.94137571e-01,  2.27069577e-01,\n",
                            "         2.63042622e-02,  4.12152901e-01, -2.03895298e+00,\n",
                            "        -1.07077508e+00],\n",
                            "       [-1.48871000e-01,  4.85491191e-01,  2.48762910e-01,\n",
                            "         2.32252874e-02,  3.22379672e-01,  8.85041207e-02,\n",
                            "        -1.07077508e+00],\n",
                            "       [-1.75156593e-01,  5.12865574e-01,  2.37974276e-01,\n",
                            "         1.81752977e-02,  1.26791657e-01,  8.28182661e-02,\n",
                            "        -1.07077508e+00],\n",
                            "       [-2.57029788e-01,  4.66643792e-01,  2.58678240e-01,\n",
                            "         2.19469524e-02, -9.89856551e-03,  8.44394592e-02,\n",
                            "        -1.07077508e+00],\n",
                            "       [-2.72249213e-01,  4.67636736e-01,  2.76508205e-01,\n",
                            "         2.07371848e-02,  5.87891507e-02,  8.62838806e-02,\n",
                            "        -1.07077508e+00],\n",
                            "       [-2.28116072e-01,  5.00679025e-01,  2.50668244e-01,\n",
                            "         1.51117505e-02,  7.33158680e-03,  7.80613707e-02,\n",
                            "        -1.07077508e+00],\n",
                            "       [-2.92595777e-01,  5.10808406e-01,  2.74855703e-01,\n",
                            "         1.23096539e-02,  8.15621560e-02,  7.79768317e-02,\n",
                            "        -1.07077508e+00],\n",
                            "       [-2.29544011e-01,  5.12506318e-01,  3.32778308e-01,\n",
                            "         5.72300890e-03,  2.49731091e-01,  7.49201726e-02,\n",
                            "        -1.07077508e+00],\n",
                            "       [-2.19906267e-01,  4.93025945e-01,  3.18789753e-01,\n",
                            "         7.91932737e-03,  6.96761961e-02,  6.95153334e-02,\n",
                            "        -1.07077508e+00],\n",
                            "       [-2.17958989e-01,  4.74919155e-01,  2.43910644e-01,\n",
                            "         1.69935533e-02, -1.95098431e-01,  6.95586536e-02,\n",
                            "        -1.07077508e+00],\n",
                            "       [-2.13058638e-01,  4.54039536e-01,  1.99177006e-01,\n",
                            "         2.13719550e-02, -2.85810528e-01,  7.05299632e-02,\n",
                            "        -1.07077508e+00],\n",
                            "       [-2.46158977e-01,  4.30084857e-01,  2.53109984e-01,\n",
                            "         2.13729985e-02, -2.20871547e-01,  7.17693568e-02,\n",
                            "        -1.07077508e+00],\n",
                            "       [-2.37851011e-01,  4.05378163e-01,  2.84581566e-01,\n",
                            "         2.29191190e-02, -1.81572680e-01,  7.29211402e-02,\n",
                            "        -1.07077508e+00],\n",
                            "       [-2.34736430e-01,  4.22575407e-01,  2.89497040e-01,\n",
                            "         1.91702704e-02, -1.59479274e-01,  6.96764101e-02,\n",
                            "        -1.07077508e+00],\n",
                            "       [-1.63635883e-01,  4.24070169e-01,  3.04190606e-01,\n",
                            "         1.69171602e-02, -8.10504578e-02,  6.97034044e-02,\n",
                            "        -1.07077508e+00],\n",
                            "       [-1.27615836e-01,  4.22921833e-01,  2.75508485e-01,\n",
                            "         1.87599094e-02, -8.05596990e-02,  7.21368510e-02,\n",
                            "        -1.07077508e+00],\n",
                            "       [-1.34625456e-01,  4.44723115e-01,  2.61962072e-01,\n",
                            "         1.66985644e-02, -2.74901228e-02,  7.42207457e-02,\n",
                            "        -1.07077508e+00]])"
                        ]
                    },
                    "execution_count": 28,
                    "metadata": {},
                    "output_type": "execute_result"
                }
            ],
            "source": [
                "REAL_ACTIONS_norm[:50]"
            ]
        },
        {
            "cell_type": "code",
            "execution_count": 32,
            "metadata": {},
            "outputs": [
                {
                    "name": "stdout",
                    "output_type": "stream",
                    "text": [
                        "Overall MSE (first 6 dims, first 50 samples): 1.1495799278144967\n",
                        "Per-dim MSE (len = 7 ): [1.01908157e-01 1.90377274e+00 2.76891273e-01 2.75390886e-03\n",
                        " 4.37872547e+00 1.38293447e+00 7.34714303e-05]\n",
                        "Per-sample MSE shape: (50,)\n"
                    ]
                }
            ],
            "source": [
                "import numpy as np\n",
                "\n",
                "def mse_first_n(X, Y, n=50, include_last_dim=False):\n",
                "    X = np.asarray(X)[:n]\n",
                "    Y = np.asarray(Y)[:n]\n",
                "    if X.shape[-1] != Y.shape[-1]:\n",
                "        raise ValueError(f\"Last dim mismatch: {X.shape[-1]} vs {Y.shape[-1]}\")\n",
                "\n",
                "\n",
                "    diff2 = (X - Y) ** 2\n",
                "    # overall MSE across all dims/samples (keeps NaNs out if any)\n",
                "    overall = np.nanmean(diff2)\n",
                "    # per-dimension MSE (reduce all axes except the last feature axis)\n",
                "    per_dim = np.nanmean(diff2, axis=tuple(range(diff2.ndim - 1)))\n",
                "    # per-sample MSE (reduce only feature axis)\n",
                "    per_sample = np.nanmean(diff2, axis=-1)\n",
                "    return overall, per_dim, per_sample\n",
                "\n",
                "# Example:\n",
                "# REAL_ACTIONS_NORM: shape (..., 7)\n",
                "# DATA_NORM: your comparison array of same shape\n",
                "overall_mse, per_dim_mse, per_sample_mse = mse_first_n(REAL_ACTIONS_norm, DATA_norm, n=50, include_last_dim=False)\n",
                "\n",
                "print(\"Overall MSE (first 6 dims, first 50 samples):\", overall_mse)\n",
                "print(\"Per-dim MSE (len =\", len(per_dim_mse), \"):\", per_dim_mse)\n",
                "print(\"Per-sample MSE shape:\", per_sample_mse.shape)\n"
            ]
        },
        {
            "cell_type": "code",
            "execution_count": null,
            "metadata": {},
            "outputs": [],
            "source": []
        }
    ],
    "metadata": {
        "kernelspec": {
            "display_name": "openpi",
            "language": "python",
            "name": "python3"
        },
        "language_info": {
            "codemirror_mode": {
                "name": "ipython",
                "version": 3
            },
            "file_extension": ".py",
            "mimetype": "text/x-python",
            "name": "python",
            "nbconvert_exporter": "python",
            "pygments_lexer": "ipython3",
            "version": "3.11.13"
        }
    },
    "nbformat": 4,
    "nbformat_minor": 2
}
