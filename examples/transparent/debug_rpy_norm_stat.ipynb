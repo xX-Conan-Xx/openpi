{
 "cells": [
  {
   "cell_type": "code",
   "execution_count": 11,
   "id": "28d134c1",
   "metadata": {},
   "outputs": [],
   "source": [
    "from lerobot.common.datasets.lerobot_dataset import LeRobotDataset"
   ]
  },
  {
   "cell_type": "code",
   "execution_count": 12,
   "id": "8fd13a58",
   "metadata": {},
   "outputs": [
    {
     "data": {
      "application/vnd.jupyter.widget-view+json": {
       "model_id": "c5856f59aab94e578e2f9a786393fd8e",
       "version_major": 2,
       "version_minor": 0
      },
      "text/plain": [
       "Resolving data files:   0%|          | 0/45 [00:00<?, ?it/s]"
      ]
     },
     "metadata": {},
     "output_type": "display_data"
    }
   ],
   "source": [
    "repo_id = \"xX-Conan-Xx/pick_up_transparent_bottle\"\n",
    "dataset = LeRobotDataset(repo_id)"
   ]
  },
  {
   "cell_type": "code",
   "execution_count": 21,
   "id": "7d4d2413",
   "metadata": {},
   "outputs": [],
   "source": [
    "# load all actions\n",
    "actions = []\n",
    "for data in dataset:\n",
    "    actions.append(data[\"actions\"])"
   ]
  },
  {
   "cell_type": "code",
   "execution_count": 22,
   "id": "ffb176ae",
   "metadata": {},
   "outputs": [],
   "source": [
    "import numpy as np\n",
    "actions = np.asarray(actions)"
   ]
  },
  {
   "cell_type": "code",
   "execution_count": 30,
   "id": "965436b5",
   "metadata": {},
   "outputs": [
    {
     "data": {
      "text/plain": [
       "2242"
      ]
     },
     "execution_count": 30,
     "metadata": {},
     "output_type": "execute_result"
    }
   ],
   "source": [
    "np.argmax(actions[:,3])"
   ]
  },
  {
   "cell_type": "code",
   "execution_count": 38,
   "id": "1e1dc219",
   "metadata": {},
   "outputs": [
    {
     "data": {
      "text/plain": [
       "tensor([ 0.2096,  0.5239,  0.0891,  3.1410,  0.2166, -3.0738,  1.0000])"
      ]
     },
     "execution_count": 38,
     "metadata": {},
     "output_type": "execute_result"
    }
   ],
   "source": [
    "dataset[2243][\"state\"]"
   ]
  },
  {
   "cell_type": "code",
   "execution_count": 39,
   "id": "d3043529",
   "metadata": {},
   "outputs": [
    {
     "data": {
      "text/plain": [
       "{'image': tensor([[[0.1529, 0.1647, 0.1412,  ..., 0.7255, 0.7294, 0.7333],\n",
       "          [0.1686, 0.1843, 0.1373,  ..., 0.7294, 0.7333, 0.7412],\n",
       "          [0.1804, 0.1490, 0.1255,  ..., 0.7412, 0.7412, 0.7412],\n",
       "          ...,\n",
       "          [0.6667, 0.6706, 0.6745,  ..., 0.6706, 0.6706, 0.6706],\n",
       "          [0.6706, 0.6745, 0.6745,  ..., 0.6706, 0.6706, 0.6745],\n",
       "          [0.6745, 0.6784, 0.6745,  ..., 0.6667, 0.6706, 0.6706]],\n",
       " \n",
       "         [[0.1529, 0.1765, 0.1647,  ..., 0.7569, 0.7529, 0.7490],\n",
       "          [0.1686, 0.2000, 0.1608,  ..., 0.7529, 0.7490, 0.7529],\n",
       "          [0.1882, 0.1608, 0.1412,  ..., 0.7569, 0.7529, 0.7451],\n",
       "          ...,\n",
       "          [0.6667, 0.6745, 0.6784,  ..., 0.6941, 0.6902, 0.6902],\n",
       "          [0.6667, 0.6706, 0.6784,  ..., 0.6902, 0.6902, 0.6863],\n",
       "          [0.6706, 0.6745, 0.6784,  ..., 0.6902, 0.6863, 0.6824]],\n",
       " \n",
       "         [[0.1294, 0.1569, 0.1529,  ..., 0.6824, 0.6824, 0.6824],\n",
       "          [0.1490, 0.1804, 0.1490,  ..., 0.6863, 0.6863, 0.6863],\n",
       "          [0.1647, 0.1451, 0.1333,  ..., 0.6980, 0.6941, 0.6902],\n",
       "          ...,\n",
       "          [0.6510, 0.6549, 0.6588,  ..., 0.6745, 0.6745, 0.6745],\n",
       "          [0.6510, 0.6549, 0.6588,  ..., 0.6745, 0.6745, 0.6784],\n",
       "          [0.6549, 0.6588, 0.6588,  ..., 0.6745, 0.6745, 0.6784]]]),\n",
       " 'wrist_image': tensor([[[0.3843, 0.3843, 0.3725,  ..., 0.6745, 0.6157, 0.5529],\n",
       "          [0.3804, 0.3725, 0.3608,  ..., 0.6784, 0.6431, 0.5804],\n",
       "          [0.3686, 0.3647, 0.3451,  ..., 0.6588, 0.6392, 0.5882],\n",
       "          ...,\n",
       "          [0.1216, 0.1176, 0.1137,  ..., 0.1255, 0.1333, 0.1451],\n",
       "          [0.1294, 0.1255, 0.1216,  ..., 0.1216, 0.1294, 0.1412],\n",
       "          [0.1294, 0.1412, 0.1333,  ..., 0.1255, 0.1333, 0.1451]],\n",
       " \n",
       "         [[0.3647, 0.3686, 0.3608,  ..., 0.7137, 0.6549, 0.5961],\n",
       "          [0.3608, 0.3608, 0.3529,  ..., 0.7176, 0.6824, 0.6235],\n",
       "          [0.3529, 0.3529, 0.3373,  ..., 0.7020, 0.6784, 0.6314],\n",
       "          ...,\n",
       "          [0.1255, 0.1216, 0.1137,  ..., 0.1373, 0.1373, 0.1451],\n",
       "          [0.1412, 0.1373, 0.1333,  ..., 0.1373, 0.1333, 0.1412],\n",
       "          [0.1490, 0.1569, 0.1490,  ..., 0.1451, 0.1373, 0.1451]],\n",
       " \n",
       "         [[0.2863, 0.2941, 0.2980,  ..., 0.7137, 0.6588, 0.5765],\n",
       "          [0.2902, 0.2902, 0.2980,  ..., 0.7176, 0.6824, 0.6039],\n",
       "          [0.2980, 0.3020, 0.2902,  ..., 0.7020, 0.6824, 0.6118],\n",
       "          ...,\n",
       "          [0.1059, 0.1059, 0.1020,  ..., 0.1255, 0.1294, 0.1373],\n",
       "          [0.1059, 0.1098, 0.1137,  ..., 0.1255, 0.1255, 0.1333],\n",
       "          [0.1059, 0.1255, 0.1294,  ..., 0.1294, 0.1294, 0.1373]]]),\n",
       " 'state': tensor([ 0.2096,  0.5239,  0.0891,  3.1410,  0.2166, -3.0738,  1.0000]),\n",
       " 'actions': tensor([-1.8999e-05, -5.8949e-05, -5.6400e-04, -6.2822e+00, -3.8359e-04,\n",
       "          2.0194e-04,  1.0000e+00]),\n",
       " 'timestamp': tensor(8.),\n",
       " 'frame_index': tensor(80),\n",
       " 'episode_index': tensor(17),\n",
       " 'index': tensor(2243),\n",
       " 'task_index': tensor(0),\n",
       " 'task': 'pick up the transparent bottle and place it on the other side of the pink cup'}"
      ]
     },
     "execution_count": 39,
     "metadata": {},
     "output_type": "execute_result"
    }
   ],
   "source": [
    "dataset[2243]"
   ]
  },
  {
   "cell_type": "code",
   "execution_count": null,
   "id": "4900e140",
   "metadata": {},
   "outputs": [
    {
     "ename": "AttributeError",
     "evalue": "'LeRobotDataset' object has no attribute 'keys'",
     "output_type": "error",
     "traceback": [
      "\u001b[31m---------------------------------------------------------------------------\u001b[39m",
      "\u001b[31mAttributeError\u001b[39m                            Traceback (most recent call last)",
      "\u001b[36mCell\u001b[39m\u001b[36m \u001b[39m\u001b[32mIn[41]\u001b[39m\u001b[32m, line 1\u001b[39m\n\u001b[32m----> \u001b[39m\u001b[32m1\u001b[39m \u001b[43mdataset\u001b[49m\u001b[43m.\u001b[49m\u001b[43mkeys\u001b[49m\n",
      "\u001b[31mAttributeError\u001b[39m: 'LeRobotDataset' object has no attribute 'keys'"
     ]
    }
   ],
   "source": [
    "dataset"
   ]
  },
  {
   "cell_type": "code",
   "execution_count": null,
   "id": "a4231697",
   "metadata": {},
   "outputs": [],
   "source": []
  }
 ],
 "metadata": {
  "kernelspec": {
   "display_name": "openpi",
   "language": "python",
   "name": "python3"
  },
  "language_info": {
   "codemirror_mode": {
    "name": "ipython",
    "version": 3
   },
   "file_extension": ".py",
   "mimetype": "text/x-python",
   "name": "python",
   "nbconvert_exporter": "python",
   "pygments_lexer": "ipython3",
   "version": "3.11.13"
  }
 },
 "nbformat": 4,
 "nbformat_minor": 5
}
